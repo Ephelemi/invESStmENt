{
 "cells": [
  {
   "cell_type": "code",
   "execution_count": 1,
   "metadata": {
    "collapsed": true,
    "ExecuteTime": {
     "end_time": "2023-07-14T13:56:28.134360023Z",
     "start_time": "2023-07-14T13:56:27.856044455Z"
    }
   },
   "outputs": [],
   "source": [
    "import pandas as pd\n",
    "import os"
   ]
  },
  {
   "cell_type": "code",
   "execution_count": 77,
   "outputs": [
    {
     "name": "stdout",
     "output_type": "stream",
     "text": [
      "['2022-07-04T11:12:30.982.csv']\n"
     ]
    }
   ],
   "source": [
    "directory = os.fsencode(\"posecsvs\")\n",
    "\n",
    "filenames = []\n",
    "for file in os.listdir(directory):\n",
    "     filename = os.fsdecode(file)\n",
    "     if filename.endswith(\".csv\"):\n",
    "         filenames.append(filename)\n",
    "\n",
    "print(filenames)"
   ],
   "metadata": {
    "collapsed": false,
    "ExecuteTime": {
     "end_time": "2023-07-14T17:11:41.840925982Z",
     "start_time": "2023-07-14T17:11:41.807180423Z"
    }
   }
  },
  {
   "cell_type": "code",
   "execution_count": 79,
   "outputs": [
    {
     "data": {
      "text/plain": "                              time     gro1     gro2     gro3     gro4  \\\n0   2022, 7, 4, 11, 12, 30, 982000 -0.00971  0.99776 -0.04258  0.05069   \n1    2022, 7, 4, 11, 12, 31, 82000 -0.06807  0.86230  0.02053  0.50137   \n2   2022, 7, 4, 11, 12, 31, 215000 -0.04008  0.79878 -0.00741  0.60024   \n3   2022, 7, 4, 11, 12, 31, 315000 -0.02906  0.79991 -0.00999  0.59932   \n4   2022, 7, 4, 11, 12, 31, 398000 -0.02548  0.76337 -0.00422  0.64544   \n\n        v1       v2       v3      k0x      k0y  ...     k30z     k31x  \\\n0  0.00000  0.00000  0.00000 -2.59662  0.79800  ...  1.43709 -2.68741   \n1  2.69171  0.00057 -0.63807 -2.30340  0.77512  ...  1.24546 -2.29125   \n2  2.34727 -0.00045 -0.49736 -2.09211  0.78781  ...  1.27582 -2.12522   \n3  2.01120 -0.00093 -0.29265 -1.97743  0.79630  ...  1.31759 -2.02485   \n4  1.75821 -0.00082 -0.10898 -1.89362  0.81128  ...  1.36105 -1.93454   \n\n      k31y     k31z     k32x     k32y     k32z     k33x     k33y     k33z  \n0  0.03397  1.49462 -2.51162  1.74999  1.35192 -2.71056  1.74525  1.33185  \n1 -0.01264  1.24226 -2.35692  1.73046  1.36622 -2.45452  1.71110  1.19272  \n2 -0.00013  1.23702 -2.13893  1.74244  1.32042 -2.19417  1.72785  1.12875  \n3  0.00656  1.27493 -2.01673  1.75014  1.36454 -2.07272  1.73844  1.17290  \n4  0.02126  1.30918 -1.94009  1.76431  1.42543 -1.97319  1.75544  1.22839  \n\n[5 rows x 110 columns]",
      "text/html": "<div>\n<style scoped>\n    .dataframe tbody tr th:only-of-type {\n        vertical-align: middle;\n    }\n\n    .dataframe tbody tr th {\n        vertical-align: top;\n    }\n\n    .dataframe thead th {\n        text-align: right;\n    }\n</style>\n<table border=\"1\" class=\"dataframe\">\n  <thead>\n    <tr style=\"text-align: right;\">\n      <th></th>\n      <th>time</th>\n      <th>gro1</th>\n      <th>gro2</th>\n      <th>gro3</th>\n      <th>gro4</th>\n      <th>v1</th>\n      <th>v2</th>\n      <th>v3</th>\n      <th>k0x</th>\n      <th>k0y</th>\n      <th>...</th>\n      <th>k30z</th>\n      <th>k31x</th>\n      <th>k31y</th>\n      <th>k31z</th>\n      <th>k32x</th>\n      <th>k32y</th>\n      <th>k32z</th>\n      <th>k33x</th>\n      <th>k33y</th>\n      <th>k33z</th>\n    </tr>\n  </thead>\n  <tbody>\n    <tr>\n      <th>0</th>\n      <td>2022, 7, 4, 11, 12, 30, 982000</td>\n      <td>-0.00971</td>\n      <td>0.99776</td>\n      <td>-0.04258</td>\n      <td>0.05069</td>\n      <td>0.00000</td>\n      <td>0.00000</td>\n      <td>0.00000</td>\n      <td>-2.59662</td>\n      <td>0.79800</td>\n      <td>...</td>\n      <td>1.43709</td>\n      <td>-2.68741</td>\n      <td>0.03397</td>\n      <td>1.49462</td>\n      <td>-2.51162</td>\n      <td>1.74999</td>\n      <td>1.35192</td>\n      <td>-2.71056</td>\n      <td>1.74525</td>\n      <td>1.33185</td>\n    </tr>\n    <tr>\n      <th>1</th>\n      <td>2022, 7, 4, 11, 12, 31, 82000</td>\n      <td>-0.06807</td>\n      <td>0.86230</td>\n      <td>0.02053</td>\n      <td>0.50137</td>\n      <td>2.69171</td>\n      <td>0.00057</td>\n      <td>-0.63807</td>\n      <td>-2.30340</td>\n      <td>0.77512</td>\n      <td>...</td>\n      <td>1.24546</td>\n      <td>-2.29125</td>\n      <td>-0.01264</td>\n      <td>1.24226</td>\n      <td>-2.35692</td>\n      <td>1.73046</td>\n      <td>1.36622</td>\n      <td>-2.45452</td>\n      <td>1.71110</td>\n      <td>1.19272</td>\n    </tr>\n    <tr>\n      <th>2</th>\n      <td>2022, 7, 4, 11, 12, 31, 215000</td>\n      <td>-0.04008</td>\n      <td>0.79878</td>\n      <td>-0.00741</td>\n      <td>0.60024</td>\n      <td>2.34727</td>\n      <td>-0.00045</td>\n      <td>-0.49736</td>\n      <td>-2.09211</td>\n      <td>0.78781</td>\n      <td>...</td>\n      <td>1.27582</td>\n      <td>-2.12522</td>\n      <td>-0.00013</td>\n      <td>1.23702</td>\n      <td>-2.13893</td>\n      <td>1.74244</td>\n      <td>1.32042</td>\n      <td>-2.19417</td>\n      <td>1.72785</td>\n      <td>1.12875</td>\n    </tr>\n    <tr>\n      <th>3</th>\n      <td>2022, 7, 4, 11, 12, 31, 315000</td>\n      <td>-0.02906</td>\n      <td>0.79991</td>\n      <td>-0.00999</td>\n      <td>0.59932</td>\n      <td>2.01120</td>\n      <td>-0.00093</td>\n      <td>-0.29265</td>\n      <td>-1.97743</td>\n      <td>0.79630</td>\n      <td>...</td>\n      <td>1.31759</td>\n      <td>-2.02485</td>\n      <td>0.00656</td>\n      <td>1.27493</td>\n      <td>-2.01673</td>\n      <td>1.75014</td>\n      <td>1.36454</td>\n      <td>-2.07272</td>\n      <td>1.73844</td>\n      <td>1.17290</td>\n    </tr>\n    <tr>\n      <th>4</th>\n      <td>2022, 7, 4, 11, 12, 31, 398000</td>\n      <td>-0.02548</td>\n      <td>0.76337</td>\n      <td>-0.00422</td>\n      <td>0.64544</td>\n      <td>1.75821</td>\n      <td>-0.00082</td>\n      <td>-0.10898</td>\n      <td>-1.89362</td>\n      <td>0.81128</td>\n      <td>...</td>\n      <td>1.36105</td>\n      <td>-1.93454</td>\n      <td>0.02126</td>\n      <td>1.30918</td>\n      <td>-1.94009</td>\n      <td>1.76431</td>\n      <td>1.42543</td>\n      <td>-1.97319</td>\n      <td>1.75544</td>\n      <td>1.22839</td>\n    </tr>\n  </tbody>\n</table>\n<p>5 rows × 110 columns</p>\n</div>"
     },
     "execution_count": 79,
     "metadata": {},
     "output_type": "execute_result"
    }
   ],
   "source": [
    "datasets = []\n",
    "for file in filenames:\n",
    "    filestring = \"./posecsvs/\" + file\n",
    "    datasets.append(pd.read_csv(filestring))\n",
    "\n",
    "datasets[0].head()"
   ],
   "metadata": {
    "collapsed": false,
    "ExecuteTime": {
     "end_time": "2023-07-14T17:11:57.506100183Z",
     "start_time": "2023-07-14T17:11:57.463112987Z"
    }
   }
  },
  {
   "cell_type": "code",
   "execution_count": 80,
   "outputs": [
    {
     "name": "stdout",
     "output_type": "stream",
     "text": [
      "['./activitycsvs/activities-2022-07-04.csv']\n"
     ]
    }
   ],
   "source": [
    "filestrings = []\n",
    "for data in datasets:\n",
    "    times = data.loc[:,\"time\"]\n",
    "    date = times[0].replace(\" \", \"\").split(',')[0:3]\n",
    "    year = date[0]\n",
    "    month = date[1]\n",
    "    if len(month) < 2:\n",
    "        month = '0' + month\n",
    "    day = date[2]\n",
    "    if len(day) < 2:\n",
    "        day = '0' + day\n",
    "    filestring = './activitycsvs/activities-' + year + '-' + month + '-' + day + '.csv'\n",
    "    filestrings.append(filestring)\n",
    "\n",
    "print(filestrings)"
   ],
   "metadata": {
    "collapsed": false,
    "ExecuteTime": {
     "end_time": "2023-07-14T17:12:03.519877840Z",
     "start_time": "2023-07-14T17:12:03.464290958Z"
    }
   }
  },
  {
   "cell_type": "code",
   "execution_count": 82,
   "outputs": [
    {
     "name": "stdout",
     "output_type": "stream",
     "text": [
      "[[0, 0, 0, 0, 0, 0, 0, 0, 0, 0, 0, 0, 0, 0, 0, 0, 0, 0, 0, 0, 0, 0, 0, 0, 0, 0, 0, 0, 0, 0, 0, 0, 0, 0, 0, 0, 0, 0, 0, 0, 0]]\n"
     ]
    }
   ],
   "source": [
    "truths = []\n",
    "for i, data in enumerate(datasets):\n",
    "    labels = []\n",
    "    try:\n",
    "        timestamps = pd.read_csv(filestrings[i])\n",
    "    except:\n",
    "        continue\n",
    "    times = data.loc[:,\"time\"]\n",
    "\n",
    "    for j, frame in enumerate(data.iterrows()):\n",
    "        time = times[j].replace(\" \", \"\").split(',')[3:6]\n",
    "        hour = time[0]\n",
    "        if len(hour) < 2:\n",
    "            hour = '0' + hour\n",
    "        minute = time[1]\n",
    "        if len(minute) < 2:\n",
    "            minute = '0' + minute\n",
    "        second = time[2]\n",
    "        if len(second) < 2:\n",
    "            second = '0' + second\n",
    "\n",
    "        found = 0\n",
    "        for timestamp in timestamps:\n",
    "            if found == 0:\n",
    "                ts = timestamp.split('T')[1].split('.')[0]\n",
    "                ts_h = ts.split(':')[0]\n",
    "                ts_m = ts.split(':')[1]\n",
    "                ts_s = ts.split(':')[2]\n",
    "                if hour == ts_h and minute == ts_m and ts_s + 20 > second > ts_s - 20:\n",
    "                    found = 1\n",
    "                    labels.append(1)\n",
    "\n",
    "        if found == 0:\n",
    "            labels.append(0)\n",
    "\n",
    "    truths.append(labels)\n",
    "\n",
    "print(truths)"
   ],
   "metadata": {
    "collapsed": false,
    "ExecuteTime": {
     "end_time": "2023-07-14T17:12:30.712434003Z",
     "start_time": "2023-07-14T17:12:30.651723373Z"
    }
   }
  },
  {
   "cell_type": "code",
   "execution_count": null,
   "outputs": [],
   "source": [],
   "metadata": {
    "collapsed": false
   }
  }
 ],
 "metadata": {
  "kernelspec": {
   "display_name": "Python 3",
   "language": "python",
   "name": "python3"
  },
  "language_info": {
   "codemirror_mode": {
    "name": "ipython",
    "version": 2
   },
   "file_extension": ".py",
   "mimetype": "text/x-python",
   "name": "python",
   "nbconvert_exporter": "python",
   "pygments_lexer": "ipython2",
   "version": "2.7.6"
  }
 },
 "nbformat": 4,
 "nbformat_minor": 0
}
